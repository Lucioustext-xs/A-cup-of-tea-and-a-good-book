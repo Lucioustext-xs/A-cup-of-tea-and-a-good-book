{
 "cells": [
  {
   "cell_type": "markdown",
   "metadata": {},
   "source": [
    "# Polar Dendogram Viz in R\n",
    "\n",
    "\n",
    "**Global Alcohol Consumption**"
   ]
  },
  {
   "cell_type": "code",
   "execution_count": 4,
   "metadata": {
    "collapsed": true
   },
   "outputs": [
    {
     "name": "stdout",
     "output_type": "stream",
     "text": [
      "package 'rworldmap' successfully unpacked and MD5 sums checked\n",
      "\n",
      "The downloaded binary packages are in\n",
      "\tC:\\Users\\Rachel Le\\AppData\\Local\\Temp\\RtmpAHvP8m\\downloaded_packages\n",
      "\n",
      "  There is a binary version available but the source version is later:\n",
      "            binary source needs_compilation\n",
      "countrycode  1.1.3  1.2.0             FALSE\n",
      "\n"
     ]
    },
    {
     "name": "stderr",
     "output_type": "stream",
     "text": [
      "installing the source package 'countrycode'\n",
      "\n"
     ]
    },
    {
     "name": "stdout",
     "output_type": "stream",
     "text": [
      "package 'fivethirtyeight' successfully unpacked and MD5 sums checked\n",
      "\n",
      "The downloaded binary packages are in\n",
      "\tC:\\Users\\Rachel Le\\AppData\\Local\\Temp\\RtmpAHvP8m\\downloaded_packages\n",
      "package 'formattable' successfully unpacked and MD5 sums checked\n",
      "\n",
      "The downloaded binary packages are in\n",
      "\tC:\\Users\\Rachel Le\\AppData\\Local\\Temp\\RtmpAHvP8m\\downloaded_packages\n",
      "package 'gridExtra' successfully unpacked and MD5 sums checked\n",
      "\n",
      "The downloaded binary packages are in\n",
      "\tC:\\Users\\Rachel Le\\AppData\\Local\\Temp\\RtmpAHvP8m\\downloaded_packages\n"
     ]
    },
    {
     "name": "stderr",
     "output_type": "stream",
     "text": [
      "also installing the dependencies 'ellipsis', 'pillar', 'glue', 'lifecycle', 'rlang', 'tibble', 'tidyselect', 'vctrs'\n",
      "\n"
     ]
    },
    {
     "name": "stdout",
     "output_type": "stream",
     "text": [
      "package 'ellipsis' successfully unpacked and MD5 sums checked\n",
      "package 'pillar' successfully unpacked and MD5 sums checked\n",
      "package 'glue' successfully unpacked and MD5 sums checked\n",
      "package 'lifecycle' successfully unpacked and MD5 sums checked\n",
      "package 'rlang' successfully unpacked and MD5 sums checked\n",
      "package 'tibble' successfully unpacked and MD5 sums checked\n",
      "package 'tidyselect' successfully unpacked and MD5 sums checked\n",
      "package 'vctrs' successfully unpacked and MD5 sums checked\n",
      "package 'dplyr' successfully unpacked and MD5 sums checked\n",
      "\n",
      "The downloaded binary packages are in\n",
      "\tC:\\Users\\Rachel Le\\AppData\\Local\\Temp\\RtmpAHvP8m\\downloaded_packages\n"
     ]
    },
    {
     "name": "stderr",
     "output_type": "stream",
     "text": [
      "also installing the dependency 'cpp11'\n",
      "\n"
     ]
    },
    {
     "name": "stdout",
     "output_type": "stream",
     "text": [
      "package 'cpp11' successfully unpacked and MD5 sums checked\n",
      "package 'tidyr' successfully unpacked and MD5 sums checked\n",
      "\n",
      "The downloaded binary packages are in\n",
      "\tC:\\Users\\Rachel Le\\AppData\\Local\\Temp\\RtmpAHvP8m\\downloaded_packages\n"
     ]
    },
    {
     "name": "stderr",
     "output_type": "stream",
     "text": [
      "also installing the dependencies 'processx', 'rprojroot', 'pkgbuild', 'diffobj', 'rematch2', 'brio', 'callr', 'cli', 'desc', 'pkgload', 'praise', 'ps', 'waldo', 'withr', 'testthat', 'isoband'\n",
      "\n"
     ]
    },
    {
     "name": "stdout",
     "output_type": "stream",
     "text": [
      "package 'processx' successfully unpacked and MD5 sums checked\n",
      "package 'rprojroot' successfully unpacked and MD5 sums checked\n",
      "package 'pkgbuild' successfully unpacked and MD5 sums checked\n",
      "package 'diffobj' successfully unpacked and MD5 sums checked\n",
      "package 'rematch2' successfully unpacked and MD5 sums checked\n",
      "package 'brio' successfully unpacked and MD5 sums checked\n",
      "package 'callr' successfully unpacked and MD5 sums checked\n",
      "package 'cli' successfully unpacked and MD5 sums checked\n",
      "package 'desc' successfully unpacked and MD5 sums checked\n",
      "package 'pkgload' successfully unpacked and MD5 sums checked\n",
      "package 'praise' successfully unpacked and MD5 sums checked\n",
      "package 'ps' successfully unpacked and MD5 sums checked\n",
      "package 'waldo' successfully unpacked and MD5 sums checked\n",
      "package 'withr' successfully unpacked and MD5 sums checked\n",
      "package 'testthat' successfully unpacked and MD5 sums checked\n",
      "package 'isoband' successfully unpacked and MD5 sums checked\n",
      "package 'ggplot2' successfully unpacked and MD5 sums checked\n",
      "\n",
      "The downloaded binary packages are in\n",
      "\tC:\\Users\\Rachel Le\\AppData\\Local\\Temp\\RtmpAHvP8m\\downloaded_packages\n"
     ]
    },
    {
     "name": "stderr",
     "output_type": "stream",
     "text": [
      "also installing the dependencies 'farver', 'tweenr', 'polyclip', 'RcppEigen', 'RcppArmadillo', 'ggforce', 'igraph', 'ggrepel', 'viridis', 'tidygraph', 'graphlayouts'\n",
      "\n"
     ]
    },
    {
     "name": "stdout",
     "output_type": "stream",
     "text": [
      "package 'farver' successfully unpacked and MD5 sums checked\n",
      "package 'tweenr' successfully unpacked and MD5 sums checked\n",
      "package 'polyclip' successfully unpacked and MD5 sums checked\n",
      "package 'RcppEigen' successfully unpacked and MD5 sums checked\n",
      "package 'RcppArmadillo' successfully unpacked and MD5 sums checked\n",
      "package 'ggforce' successfully unpacked and MD5 sums checked\n",
      "package 'igraph' successfully unpacked and MD5 sums checked\n",
      "package 'ggrepel' successfully unpacked and MD5 sums checked\n",
      "package 'viridis' successfully unpacked and MD5 sums checked\n",
      "package 'tidygraph' successfully unpacked and MD5 sums checked\n",
      "package 'graphlayouts' successfully unpacked and MD5 sums checked\n",
      "package 'ggraph' successfully unpacked and MD5 sums checked\n",
      "\n",
      "The downloaded binary packages are in\n",
      "\tC:\\Users\\Rachel Le\\AppData\\Local\\Temp\\RtmpAHvP8m\\downloaded_packages\n"
     ]
    },
    {
     "name": "stderr",
     "output_type": "stream",
     "text": [
      "also installing the dependencies 'htmlwidgets', 'crosstalk'\n",
      "\n"
     ]
    },
    {
     "name": "stdout",
     "output_type": "stream",
     "text": [
      "package 'htmlwidgets' successfully unpacked and MD5 sums checked\n",
      "package 'crosstalk' successfully unpacked and MD5 sums checked\n",
      "package 'plotly' successfully unpacked and MD5 sums checked\n",
      "\n",
      "The downloaded binary packages are in\n",
      "\tC:\\Users\\Rachel Le\\AppData\\Local\\Temp\\RtmpAHvP8m\\downloaded_packages\n",
      "package 'ape' successfully unpacked and MD5 sums checked\n",
      "\n",
      "The downloaded binary packages are in\n",
      "\tC:\\Users\\Rachel Le\\AppData\\Local\\Temp\\RtmpAHvP8m\\downloaded_packages\n",
      "package 'RColorBrewer' successfully unpacked and MD5 sums checked\n",
      "\n",
      "The downloaded binary packages are in\n",
      "\tC:\\Users\\Rachel Le\\AppData\\Local\\Temp\\RtmpAHvP8m\\downloaded_packages\n"
     ]
    }
   ],
   "source": [
    "install.packages(\"rworldmap\")\n",
    "install.packages(\"countrycode\")\n",
    "install.packages(\"fivethirtyeight\")\n",
    "install.packages(\"formattable\")\n",
    "install.packages(\"gridExtra\")\n",
    "install.packages(\"dplyr\")\n",
    "install.packages(\"tidyr\")\n",
    "install.packages(\"ggplot2\")\n",
    "install.packages(\"ggraph\")\n",
    "install.packages(\"plotly\")\n",
    "install.packages(\"ape\")\n",
    "install.packages(\"RColorBrewer\")"
   ]
  },
  {
   "cell_type": "code",
   "execution_count": 7,
   "metadata": {},
   "outputs": [],
   "source": [
    "options(warn=-1)\n"
   ]
  },
  {
   "cell_type": "code",
   "execution_count": 8,
   "metadata": {},
   "outputs": [],
   "source": [
    "library(rworldmap)\n",
    "library(countrycode)\n",
    "library(fivethirtyeight)\n",
    "library(formattable)\n",
    "library(gridExtra)\n",
    "library(dplyr)\n",
    "library(tidyr)\n",
    "library(ggplot2)\n",
    "library(ggraph)\n",
    "library(plotly)\n",
    "data(package = \"fivethirtyeight\")\n",
    "drinks=as.data.frame(drinks)\n",
    "alcohol <-c(\"beer_servings\",\"spirit_servings\", \"wine_servings\",\"total_litres_of_pure_alcohol\")\n",
    "drinks$code = countrycode(drinks$country, 'country.name', 'iso3c')\n",
    "#could convert to country/region/continent\n",
    "drinks$continent = countrycode(drinks$country, 'country.name', 'continent')\n"
   ]
  },
  {
   "cell_type": "code",
   "execution_count": 15,
   "metadata": {},
   "outputs": [
    {
     "data": {
      "text/html": [
       "<strong>png:</strong> 2"
      ],
      "text/latex": [
       "\\textbf{png:} 2"
      ],
      "text/markdown": [
       "**png:** 2"
      ],
      "text/plain": [
       "png \n",
       "  2 "
      ]
     },
     "metadata": {},
     "output_type": "display_data"
    }
   ],
   "source": [
    "row.names(drinks)=drinks$country\n",
    "# text label messy\n",
    "drinksDen <- as.dendrogram(hclust(dist(drinks[2:4], method='euclidean'), \n",
    "                                method='ward.D2'))\n",
    "tiff(\"Plot1.tiff\", width = 7, height = 4, units = 'in', res = 400)\n",
    "ggraph(graph = drinksDen, layout = 'dendrogram', repel = TRUE, circular = TRUE,\n",
    "       ratio = 0.5) +\n",
    "  geom_edge_elbow() +\n",
    " geom_node_text(aes(x = x*1.15, y=y*1.15, filter=leaf, \n",
    "                     angle = node_angle(x, y), label = label), \n",
    "                 size=1.2, hjust='outward') +\n",
    "  geom_node_point(aes(filter=leaf)) +\n",
    "  coord_fixed() +\n",
    "  ggforce::theme_no_axes()\n",
    "\n",
    "dev.off()"
   ]
  },
  {
   "cell_type": "code",
   "execution_count": 16,
   "metadata": {},
   "outputs": [
    {
     "data": {
      "text/html": [
       "<strong>png:</strong> 2"
      ],
      "text/latex": [
       "\\textbf{png:} 2"
      ],
      "text/markdown": [
       "**png:** 2"
      ],
      "text/plain": [
       "png \n",
       "  2 "
      ]
     },
     "metadata": {},
     "output_type": "display_data"
    }
   ],
   "source": [
    "library(\"ape\")\n",
    "library(RColorBrewer)\n",
    "\n",
    "hc=hclust(dist(drinks[2:4], method='euclidean'), \n",
    "          method='ward.D2')\n",
    "cols<-brewer.pal(n=5,name=\"Dark2\")\n",
    "\n",
    "tiff(\"Plot6.tiff\", width = 5, height = 4, units = 'in', res = 400)\n",
    "plot(as.phylo(hc), type = \"fan\",cex = 0.4,no.margin = TRUE, show.node.label = FALSE, tip.color = cols[cutree(hc,5)])\n",
    "dev.off()"
   ]
  },
  {
   "cell_type": "code",
   "execution_count": null,
   "metadata": {},
   "outputs": [],
   "source": []
  }
 ],
 "metadata": {
  "kernelspec": {
   "display_name": "R",
   "language": "R",
   "name": "ir"
  },
  "language_info": {
   "codemirror_mode": "r",
   "file_extension": ".r",
   "mimetype": "text/x-r-source",
   "name": "R",
   "pygments_lexer": "r",
   "version": "3.6.1"
  }
 },
 "nbformat": 4,
 "nbformat_minor": 4
}
