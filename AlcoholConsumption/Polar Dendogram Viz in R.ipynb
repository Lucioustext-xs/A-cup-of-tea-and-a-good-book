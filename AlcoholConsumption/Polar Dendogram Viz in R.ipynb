{
 "cells": [
  {
   "cell_type": "markdown",
   "source": [
    "# Polar Dendogram Viz in R\n",
    "\n",
    "\n",
    "**Global Alcohol Consumption**"
   ],
   "metadata": {}
  },
  {
   "cell_type": "code",
   "execution_count": 4,
   "source": [
    "install.packages(\"rworldmap\")\r\n",
    "install.packages(\"countrycode\")\r\n",
    "install.packages(\"fivethirtyeight\")\r\n",
    "install.packages(\"formattable\")\r\n",
    "install.packages(\"gridExtra\")\r\n",
    "install.packages(\"dplyr\")\r\n",
    "install.packages(\"tidyr\")\r\n",
    "install.packages(\"ggplot2\")\r\n",
    "install.packages(\"ggraph\")\r\n",
    "install.packages(\"plotly\")\r\n",
    "install.packages(\"ape\")\r\n",
    "install.packages(\"RColorBrewer\")"
   ],
   "outputs": [
    {
     "output_type": "stream",
     "name": "stdout",
     "text": [
      "package 'rworldmap' successfully unpacked and MD5 sums checked\n",
      "\n",
      "The downloaded binary packages are in\n",
      "\tC:\\Users\\Rachel Le\\AppData\\Local\\Temp\\RtmpAHvP8m\\downloaded_packages\n",
      "\n",
      "  There is a binary version available but the source version is later:\n",
      "            binary source needs_compilation\n",
      "countrycode  1.1.3  1.2.0             FALSE\n",
      "\n"
     ]
    },
    {
     "output_type": "stream",
     "name": "stderr",
     "text": [
      "installing the source package 'countrycode'\n",
      "\n"
     ]
    },
    {
     "output_type": "stream",
     "name": "stdout",
     "text": [
      "package 'fivethirtyeight' successfully unpacked and MD5 sums checked\n",
      "\n",
      "The downloaded binary packages are in\n",
      "\tC:\\Users\\Rachel Le\\AppData\\Local\\Temp\\RtmpAHvP8m\\downloaded_packages\n",
      "package 'formattable' successfully unpacked and MD5 sums checked\n",
      "\n",
      "The downloaded binary packages are in\n",
      "\tC:\\Users\\Rachel Le\\AppData\\Local\\Temp\\RtmpAHvP8m\\downloaded_packages\n",
      "package 'gridExtra' successfully unpacked and MD5 sums checked\n",
      "\n",
      "The downloaded binary packages are in\n",
      "\tC:\\Users\\Rachel Le\\AppData\\Local\\Temp\\RtmpAHvP8m\\downloaded_packages\n"
     ]
    },
    {
     "output_type": "stream",
     "name": "stderr",
     "text": [
      "also installing the dependencies 'ellipsis', 'pillar', 'glue', 'lifecycle', 'rlang', 'tibble', 'tidyselect', 'vctrs'\n",
      "\n"
     ]
    },
    {
     "output_type": "stream",
     "name": "stdout",
     "text": [
      "package 'ellipsis' successfully unpacked and MD5 sums checked\n",
      "package 'pillar' successfully unpacked and MD5 sums checked\n",
      "package 'glue' successfully unpacked and MD5 sums checked\n",
      "package 'lifecycle' successfully unpacked and MD5 sums checked\n",
      "package 'rlang' successfully unpacked and MD5 sums checked\n",
      "package 'tibble' successfully unpacked and MD5 sums checked\n",
      "package 'tidyselect' successfully unpacked and MD5 sums checked\n",
      "package 'vctrs' successfully unpacked and MD5 sums checked\n",
      "package 'dplyr' successfully unpacked and MD5 sums checked\n",
      "\n",
      "The downloaded binary packages are in\n",
      "\tC:\\Users\\Rachel Le\\AppData\\Local\\Temp\\RtmpAHvP8m\\downloaded_packages\n"
     ]
    },
    {
     "output_type": "stream",
     "name": "stderr",
     "text": [
      "also installing the dependency 'cpp11'\n",
      "\n"
     ]
    },
    {
     "output_type": "stream",
     "name": "stdout",
     "text": [
      "package 'cpp11' successfully unpacked and MD5 sums checked\n",
      "package 'tidyr' successfully unpacked and MD5 sums checked\n",
      "\n",
      "The downloaded binary packages are in\n",
      "\tC:\\Users\\Rachel Le\\AppData\\Local\\Temp\\RtmpAHvP8m\\downloaded_packages\n"
     ]
    },
    {
     "output_type": "stream",
     "name": "stderr",
     "text": [
      "also installing the dependencies 'processx', 'rprojroot', 'pkgbuild', 'diffobj', 'rematch2', 'brio', 'callr', 'cli', 'desc', 'pkgload', 'praise', 'ps', 'waldo', 'withr', 'testthat', 'isoband'\n",
      "\n"
     ]
    },
    {
     "output_type": "stream",
     "name": "stdout",
     "text": [
      "package 'processx' successfully unpacked and MD5 sums checked\n",
      "package 'rprojroot' successfully unpacked and MD5 sums checked\n",
      "package 'pkgbuild' successfully unpacked and MD5 sums checked\n",
      "package 'diffobj' successfully unpacked and MD5 sums checked\n",
      "package 'rematch2' successfully unpacked and MD5 sums checked\n",
      "package 'brio' successfully unpacked and MD5 sums checked\n",
      "package 'callr' successfully unpacked and MD5 sums checked\n",
      "package 'cli' successfully unpacked and MD5 sums checked\n",
      "package 'desc' successfully unpacked and MD5 sums checked\n",
      "package 'pkgload' successfully unpacked and MD5 sums checked\n",
      "package 'praise' successfully unpacked and MD5 sums checked\n",
      "package 'ps' successfully unpacked and MD5 sums checked\n",
      "package 'waldo' successfully unpacked and MD5 sums checked\n",
      "package 'withr' successfully unpacked and MD5 sums checked\n",
      "package 'testthat' successfully unpacked and MD5 sums checked\n",
      "package 'isoband' successfully unpacked and MD5 sums checked\n",
      "package 'ggplot2' successfully unpacked and MD5 sums checked\n",
      "\n",
      "The downloaded binary packages are in\n",
      "\tC:\\Users\\Rachel Le\\AppData\\Local\\Temp\\RtmpAHvP8m\\downloaded_packages\n"
     ]
    },
    {
     "output_type": "stream",
     "name": "stderr",
     "text": [
      "also installing the dependencies 'farver', 'tweenr', 'polyclip', 'RcppEigen', 'RcppArmadillo', 'ggforce', 'igraph', 'ggrepel', 'viridis', 'tidygraph', 'graphlayouts'\n",
      "\n"
     ]
    },
    {
     "output_type": "stream",
     "name": "stdout",
     "text": [
      "package 'farver' successfully unpacked and MD5 sums checked\n",
      "package 'tweenr' successfully unpacked and MD5 sums checked\n",
      "package 'polyclip' successfully unpacked and MD5 sums checked\n",
      "package 'RcppEigen' successfully unpacked and MD5 sums checked\n",
      "package 'RcppArmadillo' successfully unpacked and MD5 sums checked\n",
      "package 'ggforce' successfully unpacked and MD5 sums checked\n",
      "package 'igraph' successfully unpacked and MD5 sums checked\n",
      "package 'ggrepel' successfully unpacked and MD5 sums checked\n",
      "package 'viridis' successfully unpacked and MD5 sums checked\n",
      "package 'tidygraph' successfully unpacked and MD5 sums checked\n",
      "package 'graphlayouts' successfully unpacked and MD5 sums checked\n",
      "package 'ggraph' successfully unpacked and MD5 sums checked\n",
      "\n",
      "The downloaded binary packages are in\n",
      "\tC:\\Users\\Rachel Le\\AppData\\Local\\Temp\\RtmpAHvP8m\\downloaded_packages\n"
     ]
    },
    {
     "output_type": "stream",
     "name": "stderr",
     "text": [
      "also installing the dependencies 'htmlwidgets', 'crosstalk'\n",
      "\n"
     ]
    },
    {
     "output_type": "stream",
     "name": "stdout",
     "text": [
      "package 'htmlwidgets' successfully unpacked and MD5 sums checked\n",
      "package 'crosstalk' successfully unpacked and MD5 sums checked\n",
      "package 'plotly' successfully unpacked and MD5 sums checked\n",
      "\n",
      "The downloaded binary packages are in\n",
      "\tC:\\Users\\Rachel Le\\AppData\\Local\\Temp\\RtmpAHvP8m\\downloaded_packages\n",
      "package 'ape' successfully unpacked and MD5 sums checked\n",
      "\n",
      "The downloaded binary packages are in\n",
      "\tC:\\Users\\Rachel Le\\AppData\\Local\\Temp\\RtmpAHvP8m\\downloaded_packages\n",
      "package 'RColorBrewer' successfully unpacked and MD5 sums checked\n",
      "\n",
      "The downloaded binary packages are in\n",
      "\tC:\\Users\\Rachel Le\\AppData\\Local\\Temp\\RtmpAHvP8m\\downloaded_packages\n"
     ]
    }
   ],
   "metadata": {
    "collapsed": true
   }
  },
  {
   "cell_type": "code",
   "execution_count": 7,
   "source": [
    "options(warn=-1)\r\n"
   ],
   "outputs": [],
   "metadata": {}
  },
  {
   "cell_type": "code",
   "execution_count": 8,
   "source": [
    "library(rworldmap)\r\n",
    "library(countrycode)\r\n",
    "library(fivethirtyeight)\r\n",
    "library(formattable)\r\n",
    "library(gridExtra)\r\n",
    "library(dplyr)\r\n",
    "library(tidyr)\r\n",
    "library(ggplot2)\r\n",
    "library(ggraph)\r\n",
    "library(plotly)\r\n",
    "\r\n",
    "data(package = \"fivethirtyeight\")\r\n",
    "drinks=as.data.frame(drinks)\r\n",
    "alcohol <-c(\"beer_servings\",\"spirit_servings\", \"wine_servings\",\"total_litres_of_pure_alcohol\")\r\n",
    "drinks$code = countrycode(drinks$country, 'country.name', 'iso3c')\r\n",
    "#could convert to country/region/continent\r\n",
    "drinks$continent = countrycode(drinks$country, 'country.name', 'continent')\r\n"
   ],
   "outputs": [],
   "metadata": {}
  },
  {
   "cell_type": "code",
   "execution_count": 15,
   "source": [
    "row.names(drinks)=drinks$country\r\n",
    "# text label messy\r\n",
    "drinksDen <- as.dendrogram(hclust(dist(drinks[2:4], method='euclidean'), \r\n",
    "                                method='ward.D2'))\r\n",
    "tiff(\"Plot1.tiff\", width = 7, height = 4, units = 'in', res = 400)\r\n",
    "ggraph(graph = drinksDen, layout = 'dendrogram', repel = TRUE, circular = TRUE,\r\n",
    "       ratio = 0.5) +\r\n",
    "  geom_edge_elbow() +\r\n",
    " geom_node_text(aes(x = x*1.15, y=y*1.15, filter=leaf, \r\n",
    "                     angle = node_angle(x, y), label = label), \r\n",
    "                 size=1.2, hjust='outward') +\r\n",
    "  geom_node_point(aes(filter=leaf)) +\r\n",
    "  coord_fixed() +\r\n",
    "  ggforce::theme_no_axes()\r\n",
    "\r\n",
    "dev.off()"
   ],
   "outputs": [
    {
     "output_type": "display_data",
     "data": {
      "text/plain": [
       "png \n",
       "  2 "
      ],
      "text/markdown": [
       "**png:** 2"
      ],
      "text/latex": [
       "\\textbf{png:} 2"
      ],
      "text/html": [
       "<strong>png:</strong> 2"
      ]
     },
     "metadata": {}
    }
   ],
   "metadata": {}
  },
  {
   "cell_type": "code",
   "execution_count": 16,
   "source": [
    "library(\"ape\")\n",
    "library(RColorBrewer)\n",
    "\n",
    "hc=hclust(dist(drinks[2:4], method='euclidean'), \n",
    "          method='ward.D2')\n",
    "cols<-brewer.pal(n=5,name=\"Dark2\")\n",
    "\n",
    "tiff(\"Plot6.tiff\", width = 5, height = 4, units = 'in', res = 400)\n",
    "plot(as.phylo(hc), type = \"fan\",cex = 0.4,no.margin = TRUE, show.node.label = FALSE, tip.color = cols[cutree(hc,5)])\n",
    "dev.off()"
   ],
   "outputs": [
    {
     "output_type": "display_data",
     "data": {
      "text/plain": [
       "png \n",
       "  2 "
      ],
      "text/markdown": [
       "**png:** 2"
      ],
      "text/latex": [
       "\\textbf{png:} 2"
      ],
      "text/html": [
       "<strong>png:</strong> 2"
      ]
     },
     "metadata": {}
    }
   ],
   "metadata": {}
  },
  {
   "cell_type": "code",
   "execution_count": null,
   "source": [],
   "outputs": [],
   "metadata": {}
  }
 ],
 "metadata": {
  "kernelspec": {
   "display_name": "R",
   "language": "R",
   "name": "ir"
  },
  "language_info": {
   "codemirror_mode": "r",
   "file_extension": ".r",
   "mimetype": "text/x-r-source",
   "name": "R",
   "pygments_lexer": "r",
   "version": "3.6.1"
  }
 },
 "nbformat": 4,
 "nbformat_minor": 4
}