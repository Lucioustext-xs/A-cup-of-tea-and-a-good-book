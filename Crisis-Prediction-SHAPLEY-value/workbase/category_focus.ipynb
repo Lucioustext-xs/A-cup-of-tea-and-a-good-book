{
 "cells": [
  {
   "cell_type": "markdown",
   "metadata": {},
   "source": [
    "# Category Focus\n",
    "\n",
    "\n"
   ]
  },
  {
   "cell_type": "code",
   "execution_count": null,
   "metadata": {},
   "outputs": [],
   "source": [
    "# -*- coding: utf-8 -*-\n",
    "\"\"\"\n",
    "Created on Sun Sep 05 18:24:48 2021\n",
    "\n",
    "@author: JS\n",
    "Modified: Rachel \n",
    "\"\"\"\n"
   ]
  },
  {
   "cell_type": "code",
   "execution_count": null,
   "metadata": {},
   "outputs": [],
   "source": [
    "\"\"\"\n",
    "1. run python3 category_focus.py, this will read from focus_cc view to s3://iprice-dasync-production/category-focus/cc/\n",
    "\t\n",
    "2. go to AWS glue, run this crawler iprice-dasync-category-focus (only run this when you have add more columns)\n",
    "\t\n",
    "3. once crawler done. run python3 athena-schema-update.py, this will fix the spill over issue (only do this if you run crawler)\n",
    "\"\"\""
   ]
  },
  {
   "cell_type": "code",
   "execution_count": 1,
   "metadata": {},
   "outputs": [],
   "source": [
    "\n",
    "import boto3\n",
    "import time"
   ]
  },
  {
   "cell_type": "markdown",
   "metadata": {},
   "source": []
  },
  {
   "cell_type": "code",
   "execution_count": 2,
   "metadata": {},
   "outputs": [],
   "source": [
    "bucket = 'iprice-dasync-production'\n",
    "region = 'ap-southeast-1'\n",
    "key_path = 'category-focus'\n",
    "result_output_path = 's3://{}/{}'.format(bucket, key_path)\n"
   ]
  },
  {
   "cell_type": "code",
   "execution_count": null,
   "metadata": {},
   "outputs": [],
   "source": [
    "\n",
    "\n",
    "s3 = session.client('s3')"
   ]
  },
  {
   "cell_type": "code",
   "execution_count": 69,
   "metadata": {},
   "outputs": [],
   "source": [
    "bucket = 'iprice-dasync-production'\n",
    "region = 'ap-southeast-1'\n",
    "key_path = 'category-focus'\n",
    "result_output_path = 's3://{}/{}'.format(bucket, key_path)\n",
    "\n"
   ]
  },
  {
   "cell_type": "code",
   "execution_count": 3,
   "metadata": {},
   "outputs": [],
   "source": [
    "\n",
    "def run_query(query: str, cc: str):\n",
    "    client = boto3.client('athena', aws_access_key_id='',\n",
    "    aws_secret_access_key='', region_name=region)\n",
    "    res_exec_id = client.start_query_execution(\n",
    "        QueryString=query,\n",
    "        QueryExecutionContext={\n",
    "            'Database': 'dasync',\n",
    "        },\n",
    "        ResultConfiguration={\n",
    "            'OutputLocation': '{}/{}/'.format(result_output_path, cc)\n",
    "        }\n",
    "    )\n",
    "    iterations = 360 # 30 mins\n",
    "    while (iterations > 0):\n",
    "        iterations = iterations - 1\n",
    "        response_get_query_details = client.get_query_execution(\n",
    "            QueryExecutionId=res_exec_id['QueryExecutionId']\n",
    "        )\n",
    "        status = response_get_query_details['QueryExecution']['Status']['State']\n",
    "\n",
    "        if (status == 'FAILED') or (status == 'CANCELLED'):\n",
    "            return False\n",
    "\n",
    "        elif status == 'SUCCEEDED':\n",
    "            return True\n",
    "\n",
    "        else:\n",
    "            time.sleep(5)\n",
    "    return False\n",
    "\n",
    "\n"
   ]
  },
  {
   "cell_type": "code",
   "execution_count": 4,
   "metadata": {},
   "outputs": [
    {
     "name": "stdout",
     "output_type": "stream",
     "text": [
      "delete category-focus/my/8d4b72ce-72e6-4e3c-b5cd-8ab81eb2429a.csv\n",
      "query my: True\n",
      "delete category-focus/my/1d53f517-7565-4958-9524-667b1a156622.csv.metadata\n",
      "delete category-focus/id/43ddf90e-da75-4094-8ab8-32c876a92c24.csv\n",
      "query id: True\n",
      "delete category-focus/id/75e76003-2b68-4712-bae9-ce409f618df4.csv.metadata\n",
      "delete category-focus/ph/f373875e-f9a4-4153-86a7-d774d644b2ed.csv\n",
      "query ph: True\n",
      "delete category-focus/ph/3da876c0-761a-4286-ac7b-2319b70a14bc.csv.metadata\n",
      "delete category-focus/sg/b66f8c30-d46b-4806-8463-2b910c3792ed.csv\n",
      "query sg: True\n",
      "delete category-focus/sg/8c0494f9-1476-47b6-bc11-7699c2ec5fab.csv.metadata\n",
      "delete category-focus/th/1ba72749-6426-494e-a69a-f84b73a058f9.csv\n",
      "query th: True\n",
      "delete category-focus/th/655dbe3a-6c9b-42d5-90f6-17e82b9b4899.csv.metadata\n",
      "delete category-focus/vn/84a081c7-1991-4b48-823b-98a3307f9ea9.csv\n",
      "query vn: True\n",
      "delete category-focus/vn/76dd51d8-cace-42ca-95ba-9587d2b97cc2.csv.metadata\n"
     ]
    }
   ],
   "source": [
    "\n",
    "\n",
    "def s3_query_clenaup(cc: str, suffix=None):\n",
    "    s3 = boto3.resource('s3', aws_access_key_id='',\n",
    "  aws_secret_access_key='',)\n",
    "    s3_bucket = s3.Bucket(bucket)\n",
    "    for obj in s3_bucket.objects.filter(Prefix='{}/{}/'.format(key_path, cc)):\n",
    "        if suffix and not obj.key.endswith(suffix):\n",
    "            continue\n",
    "        print('delete {}'.format(obj.key))\n",
    "        s3.Object(bucket, obj.key).delete()\n",
    "\n",
    "def get_view_query(cc: str):\n",
    "    sql = \"\"\"\n",
    "    SELECT *\n",
    "    FROM focus_{};\n",
    "    \"\"\".format(cc)\n",
    "    return run_query(sql, cc)\n",
    "\n",
    "\n",
    "if __name__ == '__main__':\n",
    "    for cc in ('my', 'id', 'ph', 'sg', 'th', 'vn'):\n",
    "        s3_query_clenaup(cc, '.csv')\n",
    "        result = get_view_query(cc)\n",
    "        print('query {}: {}'.format(cc, result))\n",
    "        s3_query_clenaup(cc, '.csv.metadata')"
   ]
  },
  {
   "cell_type": "markdown",
   "metadata": {},
   "source": [
    "# Athena Schema Update"
   ]
  },
  {
   "cell_type": "code",
   "execution_count": null,
   "metadata": {},
   "outputs": [],
   "source": [
    "\"\"\"\n",
    "Usage: python3 athena-schema-update.py\n",
    "This is to solve shopee feed spill over issue\n",
    "Also remove dummy columns generated by Glue\n",
    "\"\"\""
   ]
  },
  {
   "cell_type": "code",
   "execution_count": 5,
   "metadata": {},
   "outputs": [],
   "source": [
    "import boto3\n",
    "\n",
    "DATABASE_NAME = 'dasync'\n",
    "region = 'ap-southeast-1'\n",
    "client = boto3.client('glue', aws_access_key_id='',\n",
    "  aws_secret_access_key='',\n",
    "  region_name=region)"
   ]
  },
  {
   "cell_type": "code",
   "execution_count": 6,
   "metadata": {},
   "outputs": [],
   "source": [
    "\n",
    "def get_tables():\n",
    "    response = client.get_tables(\n",
    "        DatabaseName=DATABASE_NAME,\n",
    "        Expression='category_focus_.*',\n",
    "    )\n",
    "    return response['TableList']\n",
    "\n",
    "def create_table(name, params):\n",
    "    columns = []\n",
    "    for col in params['StorageDescriptor']['Columns']:\n",
    "        if col['Name'].startswith('col'):\n",
    "            continue\n",
    "        columns.append(col)\n",
    "\n",
    "    response = client.create_table(\n",
    "        CatalogId=params['CatalogId'],\n",
    "        DatabaseName=DATABASE_NAME,\n",
    "        TableInput={\n",
    "            'Name': name,\n",
    "            'LastAccessTime': params['LastAccessTime'],\n",
    "            'Retention': params['Retention'],\n",
    "            'StorageDescriptor': {\n",
    "                'Columns': columns,\n",
    "                'Location': params['StorageDescriptor']['Location'],\n",
    "                'InputFormat': params['StorageDescriptor']['InputFormat'],\n",
    "                'OutputFormat': params['StorageDescriptor']['OutputFormat'],\n",
    "                'Compressed': params['StorageDescriptor']['Compressed'],\n",
    "                'NumberOfBuckets': params['StorageDescriptor']['NumberOfBuckets'],\n",
    "                'SerdeInfo': {\n",
    "                    'SerializationLibrary': 'org.apache.hadoop.hive.serde2.OpenCSVSerde',\n",
    "                    'Parameters': {\n",
    "                        'escapeChar': '\\\\',\n",
    "                        'quoteChar': '\"',\n",
    "                        'separatorChar': ',',\n",
    "                    }\n",
    "                },\n",
    "                'BucketColumns': params['StorageDescriptor']['BucketColumns'],\n",
    "                'SortColumns': params['StorageDescriptor']['SortColumns'],\n",
    "                'Parameters': params['StorageDescriptor']['Parameters'],\n",
    "                'StoredAsSubDirectories': params['StorageDescriptor']['StoredAsSubDirectories'],\n",
    "            },\n",
    "            'PartitionKeys': params['PartitionKeys'],\n",
    "            'TableType': params['TableType'],\n",
    "            'Parameters': params['Parameters'],\n",
    "        },\n",
    "    )\n",
    "    print('{} created'.format(name))"
   ]
  },
  {
   "cell_type": "code",
   "execution_count": 7,
   "metadata": {},
   "outputs": [
    {
     "name": "stdout",
     "output_type": "stream",
     "text": [
      "category_focus_id deleted\n",
      "category_focus_id created\n",
      "category_focus_my deleted\n",
      "category_focus_my created\n",
      "category_focus_ph deleted\n",
      "category_focus_ph created\n",
      "category_focus_sg deleted\n",
      "category_focus_sg created\n",
      "category_focus_th deleted\n",
      "category_focus_th created\n",
      "category_focus_vn deleted\n",
      "category_focus_vn created\n"
     ]
    }
   ],
   "source": [
    "\n",
    "def delete_table(table):\n",
    "    client.delete_table(\n",
    "        DatabaseName=DATABASE_NAME,\n",
    "        Name=table,\n",
    "    )\n",
    "    print('{} deleted'.format(table))\n",
    "\n",
    "if __name__ == '__main__':\n",
    "    tables = get_tables()\n",
    "    for table in tables:\n",
    "        delete_table(table['Name'])\n",
    "        create_table(table['Name'], table)"
   ]
  },
  {
   "cell_type": "markdown",
   "metadata": {},
   "source": []
  },
  {
   "cell_type": "markdown",
   "metadata": {},
   "source": [
    "# Normalised Default values by Category1,2"
   ]
  },
  {
   "cell_type": "code",
   "execution_count": 1,
   "metadata": {},
   "outputs": [],
   "source": [
    "import pandas as pd"
   ]
  },
  {
   "cell_type": "code",
   "execution_count": null,
   "metadata": {},
   "outputs": [],
   "source": [
    "df = pd.read_csv('default-normalised.csv')\n",
    "\n",
    "df.info()"
   ]
  },
  {
   "cell_type": "code",
   "execution_count": null,
   "metadata": {},
   "outputs": [],
   "source": [
    "df['crossGMV'] = df.groupby(['Category 1 (Shopee)', 'Category 2 (Shopee)','Category 3 (Shopee)'])['Market_Demands (US$ monthly)'].transform('sum')\n",
    "\n",
    "df['avgPrice'] = df.groupby(['Category 1 (Shopee)', 'Category 2 (Shopee)','Category 3 (Shopee)'])['Avg Cat price($)'].transform('mean')\n",
    "df['avgPurchased'] = df.groupby(['Category 1 (Shopee)', 'Category 2 (Shopee)','Category 3 (Shopee)'])['Purchase Frequency (yearly)'].transform('mean')"
   ]
  },
  {
   "cell_type": "code",
   "execution_count": null,
   "metadata": {},
   "outputs": [],
   "source": [
    "df.to_csv('file_name.csv')"
   ]
  },
  {
   "cell_type": "markdown",
   "metadata": {},
   "source": [
    "# User Agent Transformation "
   ]
  },
  {
   "cell_type": "code",
   "execution_count": 2,
   "metadata": {},
   "outputs": [
    {
     "name": "stdout",
     "output_type": "stream",
     "text": [
      "Requirement already satisfied: user_agents in c:\\users\\rachel le\\anaconda3\\lib\\site-packages (2.2.0)\n",
      "Requirement already satisfied: ua-parser>=0.10.0 in c:\\users\\rachel le\\anaconda3\\lib\\site-packages (from user_agents) (0.10.0)\n"
     ]
    }
   ],
   "source": [
    "!pip install user_agents"
   ]
  },
  {
   "cell_type": "code",
   "execution_count": 17,
   "metadata": {},
   "outputs": [],
   "source": [
    "#Step 3\n",
    "from user_agents import parse \n",
    "import pandas as pd\n",
    "from pyathena import connect\n",
    "import requests\n",
    "\n",
    "# Get data from Athena\n",
    "\n",
    "conn = connect(aws_access_key_id='',\n",
    "               aws_secret_access_key='',\n",
    "               s3_staging_dir='s3://athena-user-queries/test-folder',\n",
    "               region_name='ap-southeast-1')\n",
    "\n",
    "query_all_transactions = pd.read_sql(\"\"\"\n",
    "                                    select sum(\"ipg:order\") as ord,  \"ipg:product\", \"ipg:site\", \"ipg:useragent\", \"ipg:merchantname\", \"ipg:cc\" as Country, \"bi:year_month\" as Month\n",
    "from \"ho\".\"ho_transactions\"\n",
    "where \"bi:year_month\">='2021-03'\n",
    "and \"ipg:product\" in ('shop', 'pc', 'static', 'trends')\n",
    "and \"ipg:site\" in ('iprice.vn', 'iprice.ph', 'iprice.co.id', 'iprice.my', 'iprice.sg', 'iprice.hk', 'ipricethailand.com')\n",
    "group by 2,3,4,5,6, 7\n",
    "                                \"\"\", conn)"
   ]
  },
  {
   "cell_type": "code",
   "execution_count": 18,
   "metadata": {},
   "outputs": [
    {
     "data": {
      "text/html": [
       "<div>\n",
       "<style scoped>\n",
       "    .dataframe tbody tr th:only-of-type {\n",
       "        vertical-align: middle;\n",
       "    }\n",
       "\n",
       "    .dataframe tbody tr th {\n",
       "        vertical-align: top;\n",
       "    }\n",
       "\n",
       "    .dataframe thead th {\n",
       "        text-align: right;\n",
       "    }\n",
       "</style>\n",
       "<table border=\"1\" class=\"dataframe\">\n",
       "  <thead>\n",
       "    <tr style=\"text-align: right;\">\n",
       "      <th></th>\n",
       "      <th>ord</th>\n",
       "      <th>ipg:product</th>\n",
       "      <th>ipg:site</th>\n",
       "      <th>ipg:useragent</th>\n",
       "      <th>ipg:merchantname</th>\n",
       "      <th>Country</th>\n",
       "      <th>Month</th>\n",
       "    </tr>\n",
       "  </thead>\n",
       "  <tbody>\n",
       "    <tr>\n",
       "      <th>388311</th>\n",
       "      <td>1</td>\n",
       "      <td>shop</td>\n",
       "      <td>iprice.co.id</td>\n",
       "      <td>Mozilla/5.0 (Linux; Android 8.0.0; LLD-AL20) A...</td>\n",
       "      <td>Shopee</td>\n",
       "      <td>ID</td>\n",
       "      <td>2021-03</td>\n",
       "    </tr>\n",
       "    <tr>\n",
       "      <th>388312</th>\n",
       "      <td>2</td>\n",
       "      <td>shop</td>\n",
       "      <td>iprice.co.id</td>\n",
       "      <td>Mozilla/5.0 (Linux; Android 8.0.0; RNE-L22) Ap...</td>\n",
       "      <td>Shopee</td>\n",
       "      <td>ID</td>\n",
       "      <td>2021-03</td>\n",
       "    </tr>\n",
       "    <tr>\n",
       "      <th>388313</th>\n",
       "      <td>1</td>\n",
       "      <td>shop</td>\n",
       "      <td>iprice.co.id</td>\n",
       "      <td>Mozilla/5.0 (Linux; Android 10; Redmi 8A) Appl...</td>\n",
       "      <td>Shopee</td>\n",
       "      <td>ID</td>\n",
       "      <td>2021-03</td>\n",
       "    </tr>\n",
       "    <tr>\n",
       "      <th>388314</th>\n",
       "      <td>1</td>\n",
       "      <td>pc</td>\n",
       "      <td>iprice.co.id</td>\n",
       "      <td>Mozilla/5.0 (Linux; Android 10; EML-L29) Apple...</td>\n",
       "      <td>Shopee</td>\n",
       "      <td>ID</td>\n",
       "      <td>2021-03</td>\n",
       "    </tr>\n",
       "    <tr>\n",
       "      <th>388315</th>\n",
       "      <td>1</td>\n",
       "      <td>pc</td>\n",
       "      <td>iprice.co.id</td>\n",
       "      <td>Mozilla/5.0 (Linux; Android 10; vivo 1806) App...</td>\n",
       "      <td>Shopee</td>\n",
       "      <td>ID</td>\n",
       "      <td>2021-03</td>\n",
       "    </tr>\n",
       "  </tbody>\n",
       "</table>\n",
       "</div>"
      ],
      "text/plain": [
       "        ord ipg:product      ipg:site  \\\n",
       "388311    1        shop  iprice.co.id   \n",
       "388312    2        shop  iprice.co.id   \n",
       "388313    1        shop  iprice.co.id   \n",
       "388314    1          pc  iprice.co.id   \n",
       "388315    1          pc  iprice.co.id   \n",
       "\n",
       "                                            ipg:useragent ipg:merchantname  \\\n",
       "388311  Mozilla/5.0 (Linux; Android 8.0.0; LLD-AL20) A...           Shopee   \n",
       "388312  Mozilla/5.0 (Linux; Android 8.0.0; RNE-L22) Ap...           Shopee   \n",
       "388313  Mozilla/5.0 (Linux; Android 10; Redmi 8A) Appl...           Shopee   \n",
       "388314  Mozilla/5.0 (Linux; Android 10; EML-L29) Apple...           Shopee   \n",
       "388315  Mozilla/5.0 (Linux; Android 10; vivo 1806) App...           Shopee   \n",
       "\n",
       "       Country    Month  \n",
       "388311      ID  2021-03  \n",
       "388312      ID  2021-03  \n",
       "388313      ID  2021-03  \n",
       "388314      ID  2021-03  \n",
       "388315      ID  2021-03  "
      ]
     },
     "execution_count": 18,
     "metadata": {},
     "output_type": "execute_result"
    }
   ],
   "source": [
    "query_all_transactions.tail()"
   ]
  },
  {
   "cell_type": "code",
   "execution_count": 21,
   "metadata": {},
   "outputs": [],
   "source": [
    "#Step 4\n",
    "\n",
    "device_OS = []\n",
    "\n",
    "for user in query_all_transactions['ipg:useragent']:\n",
    "    user_agent = parse(str(user))\n",
    "    device_OS.append(user_agent.os.family)\n",
    "    \n",
    "result = pd.DataFrame(columns= ['device_OS'] )\n",
    "query_all_transactions['device_OS'] = device_OS\n",
    "\n"
   ]
  },
  {
   "cell_type": "code",
   "execution_count": 22,
   "metadata": {},
   "outputs": [
    {
     "data": {
      "text/plain": [
       "array(['Mac OS X', 'Other', 'Windows', 'Android', 'iOS', 'Linux',\n",
       "       'Fedora', 'Chrome OS', 'Ubuntu', 'BlackBerry OS', 'Windows Phone',\n",
       "       'Tizen', 'FreeBSD'], dtype=object)"
      ]
     },
     "execution_count": 22,
     "metadata": {},
     "output_type": "execute_result"
    }
   ],
   "source": [
    "query_all_transactions['device_OS'].unique()"
   ]
  },
  {
   "cell_type": "code",
   "execution_count": null,
   "metadata": {},
   "outputs": [],
   "source": [
    "# An option to clean data\n",
    "# not so optimal because value being replaced \n",
    "\n",
    "# query_all_transactions['device_OS'].replace({\"Mac OS X\": \"Web Browser\", \"Windows\": \"Web Browser\", \"Linux\": \"Web Browser\"\n",
    "#, \"Fedora\": \"Web Browser\", \"Chrome OS\": \"Web Browser\", \"Ubuntu\": \"Web Browser\", \"Tizen\": \"Web Browser\"}, inplace=True)\n"
   ]
  },
  {
   "cell_type": "code",
   "execution_count": 23,
   "metadata": {},
   "outputs": [
    {
     "data": {
      "text/html": [
       "<div>\n",
       "<style scoped>\n",
       "    .dataframe tbody tr th:only-of-type {\n",
       "        vertical-align: middle;\n",
       "    }\n",
       "\n",
       "    .dataframe tbody tr th {\n",
       "        vertical-align: top;\n",
       "    }\n",
       "\n",
       "    .dataframe thead th {\n",
       "        text-align: right;\n",
       "    }\n",
       "</style>\n",
       "<table border=\"1\" class=\"dataframe\">\n",
       "  <thead>\n",
       "    <tr style=\"text-align: right;\">\n",
       "      <th></th>\n",
       "      <th>ord</th>\n",
       "      <th>ipg:product</th>\n",
       "      <th>ipg:site</th>\n",
       "      <th>ipg:useragent</th>\n",
       "      <th>ipg:merchantname</th>\n",
       "      <th>Country</th>\n",
       "      <th>Month</th>\n",
       "      <th>device_OS</th>\n",
       "      <th>device_class</th>\n",
       "    </tr>\n",
       "  </thead>\n",
       "  <tbody>\n",
       "    <tr>\n",
       "      <th>0</th>\n",
       "      <td>1</td>\n",
       "      <td>shop</td>\n",
       "      <td>iprice.hk</td>\n",
       "      <td>Mozilla/5.0 (Macintosh; Intel Mac OS X 10_15_7...</td>\n",
       "      <td>iherb</td>\n",
       "      <td>HK</td>\n",
       "      <td>2021-04</td>\n",
       "      <td>Mac OS X</td>\n",
       "      <td>Web Browsers</td>\n",
       "    </tr>\n",
       "    <tr>\n",
       "      <th>1</th>\n",
       "      <td>3</td>\n",
       "      <td>shop</td>\n",
       "      <td>iprice.hk</td>\n",
       "      <td>None</td>\n",
       "      <td>HQhair UK</td>\n",
       "      <td>HK</td>\n",
       "      <td>2021-06</td>\n",
       "      <td>Other</td>\n",
       "      <td>Mobile Others</td>\n",
       "    </tr>\n",
       "    <tr>\n",
       "      <th>2</th>\n",
       "      <td>1</td>\n",
       "      <td>shop</td>\n",
       "      <td>iprice.hk</td>\n",
       "      <td>Mozilla/5.0 (Macintosh; Intel Mac OS X 10_13_6...</td>\n",
       "      <td>yesstyle</td>\n",
       "      <td>HK</td>\n",
       "      <td>2021-06</td>\n",
       "      <td>Mac OS X</td>\n",
       "      <td>Web Browsers</td>\n",
       "    </tr>\n",
       "    <tr>\n",
       "      <th>3</th>\n",
       "      <td>1</td>\n",
       "      <td>shop</td>\n",
       "      <td>iprice.hk</td>\n",
       "      <td>Mozilla/5.0 (Macintosh; Intel Mac OS X 10_15_7...</td>\n",
       "      <td>zalora</td>\n",
       "      <td>HK</td>\n",
       "      <td>2021-06</td>\n",
       "      <td>Mac OS X</td>\n",
       "      <td>Web Browsers</td>\n",
       "    </tr>\n",
       "    <tr>\n",
       "      <th>4</th>\n",
       "      <td>1</td>\n",
       "      <td>shop</td>\n",
       "      <td>iprice.hk</td>\n",
       "      <td>Mozilla/5.0 (Windows NT 6.0) AppleWebKit/537.3...</td>\n",
       "      <td>yesstyle</td>\n",
       "      <td>HK</td>\n",
       "      <td>2021-06</td>\n",
       "      <td>Windows</td>\n",
       "      <td>Web Browsers</td>\n",
       "    </tr>\n",
       "  </tbody>\n",
       "</table>\n",
       "</div>"
      ],
      "text/plain": [
       "   ord ipg:product   ipg:site  \\\n",
       "0    1        shop  iprice.hk   \n",
       "1    3        shop  iprice.hk   \n",
       "2    1        shop  iprice.hk   \n",
       "3    1        shop  iprice.hk   \n",
       "4    1        shop  iprice.hk   \n",
       "\n",
       "                                       ipg:useragent ipg:merchantname Country  \\\n",
       "0  Mozilla/5.0 (Macintosh; Intel Mac OS X 10_15_7...            iherb      HK   \n",
       "1                                               None        HQhair UK      HK   \n",
       "2  Mozilla/5.0 (Macintosh; Intel Mac OS X 10_13_6...         yesstyle      HK   \n",
       "3  Mozilla/5.0 (Macintosh; Intel Mac OS X 10_15_7...           zalora      HK   \n",
       "4  Mozilla/5.0 (Windows NT 6.0) AppleWebKit/537.3...         yesstyle      HK   \n",
       "\n",
       "     Month device_OS   device_class  \n",
       "0  2021-04  Mac OS X   Web Browsers  \n",
       "1  2021-06     Other  Mobile Others  \n",
       "2  2021-06  Mac OS X   Web Browsers  \n",
       "3  2021-06  Mac OS X   Web Browsers  \n",
       "4  2021-06   Windows   Web Browsers  "
      ]
     },
     "execution_count": 23,
     "metadata": {},
     "output_type": "execute_result"
    }
   ],
   "source": [
    "import numpy as np\n",
    "# create a list of our conditions\n",
    "conditions = [\n",
    "    (~query_all_transactions['device_OS'].isin([\"Android\", \"iOS\", \"Other\"] )),\n",
    "    (query_all_transactions['device_OS'].isin ([\"Android\"])),\n",
    "    (query_all_transactions['device_OS'].isin([\"iOS\"])),\n",
    "    (query_all_transactions['device_OS'].isin([\"Other\"]))\n",
    "    ]\n",
    "\n",
    "# create a list of the values we want to assign for each condition\n",
    "values = ['Web Browsers', 'Mobile Android', 'Mobile iOS', 'Mobile Others']\n",
    "\n",
    "# create a new column and use np.select to assign values to it using our lists as arguments\n",
    "query_all_transactions['device_class'] = np.select(conditions, values)\n",
    "\n",
    "# display updated DataFrame\n",
    "query_all_transactions.head()"
   ]
  },
  {
   "cell_type": "code",
   "execution_count": 25,
   "metadata": {},
   "outputs": [],
   "source": [
    "final = query_all_transactions.groupby(['ipg:site', 'ipg:merchantname', 'Country', 'Month', 'device_class'])['ord'].sum().reset_index()\n",
    "\n"
   ]
  },
  {
   "cell_type": "code",
   "execution_count": 19,
   "metadata": {},
   "outputs": [],
   "source": [
    "final.to_csv('transaction-final.csv')"
   ]
  },
  {
   "cell_type": "code",
   "execution_count": 8,
   "metadata": {},
   "outputs": [],
   "source": [
    "query_all_clicklog = pd.read_sql(\"\"\"\n",
    "                                    SELECT count(_id) AS \"clicks\", \"dt\",\n",
    "         concat(substr(\"dt\",1,4),\n",
    "         '-', substr(\"dt\", 5, 2))AS \"c_MONTH\", _source.site as \"c_site\",_source.store.merchantId as \"c_merchantid\",_source.useragent\n",
    "    FROM \"click_log\".\"click_log_all\"\n",
    "    WHERE \"$PATH\" LIKE '%.json-aa.gz'\n",
    "            AND _source is NOT null\n",
    "            AND dt >= '20210801'\n",
    "            AND _source.site IN ('iprice.vn', 'iprice.ph', 'iprice.co.id', 'iprice.my', 'iprice.sg', 'iprice.hk', 'ipricethailand.com')\n",
    "            AND _type = 'product'\n",
    "    GROUP BY  2,3,4,5,6\n",
    "                                \"\"\", conn)"
   ]
  },
  {
   "cell_type": "code",
   "execution_count": 9,
   "metadata": {},
   "outputs": [],
   "source": [
    "#Step 4\n",
    "\n",
    "device_OS = []\n",
    "\n",
    "for user in query_all_clicklog['useragent']:\n",
    "    user_agent = parse(str(user))\n",
    "    device_OS.append(user_agent.os.family)\n",
    "    \n",
    "result = pd.DataFrame(columns= ['device_OS'] )\n",
    "query_all_clicklog['device_OS'] = device_OS\n"
   ]
  },
  {
   "cell_type": "code",
   "execution_count": 24,
   "metadata": {},
   "outputs": [
    {
     "data": {
      "text/plain": [
       "array(['iOS', 'Android', 'Windows', 'Mac OS X', 'Other', 'Ubuntu',\n",
       "       'Linux', 'Chrome OS', 'Tizen', 'Fedora', 'Symbian OS',\n",
       "       'BlackBerry OS', 'Windows Phone', 'Solaris', 'Mac OS', 'Maemo',\n",
       "       'NetBSD', 'FreeBSD', 'SUSE', 'KaiOS', 'WebTV', 'Kindle', 'Debian',\n",
       "       'Slackware', 'Firefox OS', 'OpenBSD', 'Windows Mobile',\n",
       "       'Symbian^3 Anna', 'PCLinuxOS', 'Chromecast', 'Nokia Series 40'],\n",
       "      dtype=object)"
      ]
     },
     "execution_count": 24,
     "metadata": {},
     "output_type": "execute_result"
    }
   ],
   "source": [
    "query_all_clicklog['device_OS'].unique()"
   ]
  },
  {
   "cell_type": "code",
   "execution_count": 25,
   "metadata": {},
   "outputs": [
    {
     "data": {
      "text/html": [
       "<div>\n",
       "<style scoped>\n",
       "    .dataframe tbody tr th:only-of-type {\n",
       "        vertical-align: middle;\n",
       "    }\n",
       "\n",
       "    .dataframe tbody tr th {\n",
       "        vertical-align: top;\n",
       "    }\n",
       "\n",
       "    .dataframe thead th {\n",
       "        text-align: right;\n",
       "    }\n",
       "</style>\n",
       "<table border=\"1\" class=\"dataframe\">\n",
       "  <thead>\n",
       "    <tr style=\"text-align: right;\">\n",
       "      <th></th>\n",
       "      <th>clicks</th>\n",
       "      <th>dt</th>\n",
       "      <th>c_MONTH</th>\n",
       "      <th>c_site</th>\n",
       "      <th>c_merchantid</th>\n",
       "      <th>useragent</th>\n",
       "      <th>device_OS</th>\n",
       "      <th>device_class</th>\n",
       "    </tr>\n",
       "  </thead>\n",
       "  <tbody>\n",
       "    <tr>\n",
       "      <th>0</th>\n",
       "      <td>3</td>\n",
       "      <td>20210808</td>\n",
       "      <td>2021-08</td>\n",
       "      <td>iprice.hk</td>\n",
       "      <td>lookfantastic.com</td>\n",
       "      <td>Mozilla/5.0 (iPhone; CPU iPhone OS 14_6 like M...</td>\n",
       "      <td>iOS</td>\n",
       "      <td>Mobile iOS</td>\n",
       "    </tr>\n",
       "    <tr>\n",
       "      <th>1</th>\n",
       "      <td>2</td>\n",
       "      <td>20210808</td>\n",
       "      <td>2021-08</td>\n",
       "      <td>iprice.hk</td>\n",
       "      <td>amazon.com</td>\n",
       "      <td>Mozilla/5.0 (iPhone; CPU iPhone OS 14_6 like M...</td>\n",
       "      <td>iOS</td>\n",
       "      <td>Mobile iOS</td>\n",
       "    </tr>\n",
       "    <tr>\n",
       "      <th>2</th>\n",
       "      <td>5</td>\n",
       "      <td>20210808</td>\n",
       "      <td>2021-08</td>\n",
       "      <td>iprice.hk</td>\n",
       "      <td>ssense.com</td>\n",
       "      <td>Mozilla/5.0 (iPhone; CPU iPhone OS 14_7_1 like...</td>\n",
       "      <td>iOS</td>\n",
       "      <td>Mobile iOS</td>\n",
       "    </tr>\n",
       "    <tr>\n",
       "      <th>3</th>\n",
       "      <td>2</td>\n",
       "      <td>20210808</td>\n",
       "      <td>2021-08</td>\n",
       "      <td>iprice.hk</td>\n",
       "      <td>shopbop.com</td>\n",
       "      <td>Mozilla/5.0 (Linux; Android 9; SM-A7050) Apple...</td>\n",
       "      <td>Android</td>\n",
       "      <td>Mobile Android</td>\n",
       "    </tr>\n",
       "    <tr>\n",
       "      <th>4</th>\n",
       "      <td>2</td>\n",
       "      <td>20210808</td>\n",
       "      <td>2021-08</td>\n",
       "      <td>iprice.hk</td>\n",
       "      <td>newegg.com</td>\n",
       "      <td>Mozilla/5.0 (Linux; Android 10; Nokia 6.1 Plus...</td>\n",
       "      <td>Android</td>\n",
       "      <td>Mobile Android</td>\n",
       "    </tr>\n",
       "  </tbody>\n",
       "</table>\n",
       "</div>"
      ],
      "text/plain": [
       "   clicks        dt  c_MONTH     c_site       c_merchantid  \\\n",
       "0       3  20210808  2021-08  iprice.hk  lookfantastic.com   \n",
       "1       2  20210808  2021-08  iprice.hk         amazon.com   \n",
       "2       5  20210808  2021-08  iprice.hk         ssense.com   \n",
       "3       2  20210808  2021-08  iprice.hk        shopbop.com   \n",
       "4       2  20210808  2021-08  iprice.hk         newegg.com   \n",
       "\n",
       "                                           useragent device_OS    device_class  \n",
       "0  Mozilla/5.0 (iPhone; CPU iPhone OS 14_6 like M...       iOS      Mobile iOS  \n",
       "1  Mozilla/5.0 (iPhone; CPU iPhone OS 14_6 like M...       iOS      Mobile iOS  \n",
       "2  Mozilla/5.0 (iPhone; CPU iPhone OS 14_7_1 like...       iOS      Mobile iOS  \n",
       "3  Mozilla/5.0 (Linux; Android 9; SM-A7050) Apple...   Android  Mobile Android  \n",
       "4  Mozilla/5.0 (Linux; Android 10; Nokia 6.1 Plus...   Android  Mobile Android  "
      ]
     },
     "execution_count": 25,
     "metadata": {},
     "output_type": "execute_result"
    }
   ],
   "source": [
    "# create a list of our conditions\n",
    "conditions = [\n",
    "    (~query_all_clicklog['device_OS'].isin([\"Android\", \"iOS\", \"Other\"] )),\n",
    "    (query_all_clicklog['device_OS'].isin ([\"Android\"])),\n",
    "    (query_all_clicklog['device_OS'].isin([\"iOS\"])),\n",
    "    (query_all_clicklog['device_OS'].isin([\"Other\"]))\n",
    "    ]\n",
    "\n",
    "# create a list of the values we want to assign for each condition\n",
    "values = ['Web Browsers', 'Mobile Android', 'Mobile iOS', 'Mobile Others']\n",
    "\n",
    "# create a new column and use np.select to assign values to it using our lists as arguments\n",
    "query_all_clicklog['device_class'] = np.select(conditions, values)\n",
    "\n",
    "# display updated DataFrame\n",
    "query_all_clicklog.head()"
   ]
  },
  {
   "cell_type": "code",
   "execution_count": 28,
   "metadata": {},
   "outputs": [],
   "source": [
    "final_clicklog = query_all_clicklog.groupby(['dt', 'c_site', 'c_merchantid', 'c_MONTH', 'device_class'])['clicks'].sum().reset_index()\n",
    "final_clicklog.to_csv('clicklog-final.csv')\n"
   ]
  },
  {
   "cell_type": "code",
   "execution_count": 1,
   "metadata": {},
   "outputs": [],
   "source": [
    "import pandas as pd\n",
    "import numpy as np"
   ]
  },
  {
   "cell_type": "code",
   "execution_count": 3,
   "metadata": {},
   "outputs": [],
   "source": [
    "df = pd.read_csv('all-seller-with-clicks.csv')"
   ]
  },
  {
   "cell_type": "code",
   "execution_count": 4,
   "metadata": {},
   "outputs": [
    {
     "data": {
      "text/html": [
       "<div>\n",
       "<style scoped>\n",
       "    .dataframe tbody tr th:only-of-type {\n",
       "        vertical-align: middle;\n",
       "    }\n",
       "\n",
       "    .dataframe tbody tr th {\n",
       "        vertical-align: top;\n",
       "    }\n",
       "\n",
       "    .dataframe thead th {\n",
       "        text-align: right;\n",
       "    }\n",
       "</style>\n",
       "<table border=\"1\" class=\"dataframe\">\n",
       "  <thead>\n",
       "    <tr style=\"text-align: right;\">\n",
       "      <th></th>\n",
       "      <th>sellerName: Descending</th>\n",
       "      <th>Count</th>\n",
       "    </tr>\n",
       "  </thead>\n",
       "  <tbody>\n",
       "    <tr>\n",
       "      <th>0</th>\n",
       "      <td>NaN</td>\n",
       "      <td>498303</td>\n",
       "    </tr>\n",
       "    <tr>\n",
       "      <th>1</th>\n",
       "      <td>Amazon.com</td>\n",
       "      <td>28247</td>\n",
       "    </tr>\n",
       "    <tr>\n",
       "      <th>2</th>\n",
       "      <td>189 CELL</td>\n",
       "      <td>22928</td>\n",
       "    </tr>\n",
       "    <tr>\n",
       "      <th>3</th>\n",
       "      <td>VuaHangHieu</td>\n",
       "      <td>16262</td>\n",
       "    </tr>\n",
       "    <tr>\n",
       "      <th>4</th>\n",
       "      <td>Honchi Celuller</td>\n",
       "      <td>8915</td>\n",
       "    </tr>\n",
       "  </tbody>\n",
       "</table>\n",
       "</div>"
      ],
      "text/plain": [
       "  sellerName: Descending   Count\n",
       "0                    NaN  498303\n",
       "1             Amazon.com   28247\n",
       "2               189 CELL   22928\n",
       "3            VuaHangHieu   16262\n",
       "4        Honchi Celuller    8915"
      ]
     },
     "execution_count": 4,
     "metadata": {},
     "output_type": "execute_result"
    }
   ],
   "source": [
    "df.head()"
   ]
  },
  {
   "cell_type": "code",
   "execution_count": 6,
   "metadata": {},
   "outputs": [],
   "source": [
    "n = 80\n",
    "newdf = df.head(int(len(df)*(n/100)))"
   ]
  },
  {
   "cell_type": "code",
   "execution_count": 9,
   "metadata": {},
   "outputs": [],
   "source": [
    "df['cum_sum'] = df['Count'].cumsum()\n",
    "df['cum_perc'] = 100*df['cum_sum']/df['Count'].sum()"
   ]
  },
  {
   "cell_type": "code",
   "execution_count": 14,
   "metadata": {},
   "outputs": [
    {
     "data": {
      "text/html": [
       "<div>\n",
       "<style scoped>\n",
       "    .dataframe tbody tr th:only-of-type {\n",
       "        vertical-align: middle;\n",
       "    }\n",
       "\n",
       "    .dataframe tbody tr th {\n",
       "        vertical-align: top;\n",
       "    }\n",
       "\n",
       "    .dataframe thead th {\n",
       "        text-align: right;\n",
       "    }\n",
       "</style>\n",
       "<table border=\"1\" class=\"dataframe\">\n",
       "  <thead>\n",
       "    <tr style=\"text-align: right;\">\n",
       "      <th></th>\n",
       "      <th>sellerName: Descending</th>\n",
       "      <th>Count</th>\n",
       "      <th>cum_sum</th>\n",
       "      <th>cum_perc</th>\n",
       "    </tr>\n",
       "  </thead>\n",
       "  <tbody>\n",
       "    <tr>\n",
       "      <th>0</th>\n",
       "      <td>NaN</td>\n",
       "      <td>498303</td>\n",
       "      <td>498303</td>\n",
       "      <td>7.934818</td>\n",
       "    </tr>\n",
       "    <tr>\n",
       "      <th>1</th>\n",
       "      <td>Amazon.com</td>\n",
       "      <td>28247</td>\n",
       "      <td>526550</td>\n",
       "      <td>8.384614</td>\n",
       "    </tr>\n",
       "    <tr>\n",
       "      <th>2</th>\n",
       "      <td>189 CELL</td>\n",
       "      <td>22928</td>\n",
       "      <td>549478</td>\n",
       "      <td>8.749712</td>\n",
       "    </tr>\n",
       "    <tr>\n",
       "      <th>3</th>\n",
       "      <td>VuaHangHieu</td>\n",
       "      <td>16262</td>\n",
       "      <td>565740</td>\n",
       "      <td>9.008663</td>\n",
       "    </tr>\n",
       "    <tr>\n",
       "      <th>4</th>\n",
       "      <td>Honchi Celuller</td>\n",
       "      <td>8915</td>\n",
       "      <td>574655</td>\n",
       "      <td>9.150623</td>\n",
       "    </tr>\n",
       "  </tbody>\n",
       "</table>\n",
       "</div>"
      ],
      "text/plain": [
       "  sellerName: Descending   Count  cum_sum  cum_perc\n",
       "0                    NaN  498303   498303  7.934818\n",
       "1             Amazon.com   28247   526550  8.384614\n",
       "2               189 CELL   22928   549478  8.749712\n",
       "3            VuaHangHieu   16262   565740  9.008663\n",
       "4        Honchi Celuller    8915   574655  9.150623"
      ]
     },
     "execution_count": 14,
     "metadata": {},
     "output_type": "execute_result"
    }
   ],
   "source": [
    "newdf = df[(df['cum_perc'] <= 80) ]\n",
    "newdf.head()"
   ]
  },
  {
   "cell_type": "code",
   "execution_count": 15,
   "metadata": {},
   "outputs": [
    {
     "data": {
      "text/plain": [
       "57859"
      ]
     },
     "execution_count": 15,
     "metadata": {},
     "output_type": "execute_result"
    }
   ],
   "source": [
    "newdf['sellerName: Descending'].nunique()"
   ]
  },
  {
   "cell_type": "code",
   "execution_count": null,
   "metadata": {},
   "outputs": [],
   "source": []
  }
 ],
 "metadata": {
  "interpreter": {
   "hash": "b1190acedadf7094b8b4d9f672a08e174dc13db8f9d39f9f0b2efe47de6edd0c"
  },
  "kernelspec": {
   "display_name": "Python 3.8.8 64-bit ('base': conda)",
   "name": "python3"
  },
  "language_info": {
   "codemirror_mode": {
    "name": "ipython",
    "version": 3
   },
   "file_extension": ".py",
   "mimetype": "text/x-python",
   "name": "python",
   "nbconvert_exporter": "python",
   "pygments_lexer": "ipython3",
   "version": "3.8.8"
  }
 },
 "nbformat": 4,
 "nbformat_minor": 4
}
